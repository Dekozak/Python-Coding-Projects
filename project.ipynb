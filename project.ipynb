# Install necessary libraries (uncomment if needed)
# !pip install numpy matplotlib scipy

import numpy as np
import matplotlib.pyplot as plt
from scipy.integrate import solve_ivp

# Define the Lotka-Volterra equations for owl and wood rat populations
def population_dynamics(t, populations, alpha, beta, delta, gamma):
    wood_rat_population, owl_population = populations
    dWoodRat_dt = alpha * wood_rat_population - beta * wood_rat_population * owl_population
    dOwl_dt = delta * wood_rat_population * owl_population - gamma * owl_population
    return [dWoodRat_dt, dOwl_dt]

# Set parameters
alpha = 0.6  # Growth rate of wood rats (prey)
beta = 0.02  # Predation rate coefficient (how owls consume wood rats)
delta = 0.01  # Growth rate of owls per wood rat eaten
gamma = 0.4   # Death rate of owls (predators)

# Initial population sizes
wood_rat_initial = 50  # Initial wood rat population
owl_initial = 5        # Initial owl population

# Time span for simulation
t_start = 0
t_end = 200
t_eval = np.linspace(t_start, t_end, 1000)  # Time points for evaluation

# Solve the system of differential equations
solution = solve_ivp(
    population_dynamics, 
    [t_start, t_end], 
    [wood_rat_initial, owl_initial], 
    t_eval=t_eval, 
    args=(alpha, beta, delta, gamma)
)

# Extract solution
time = solution.t
wood_rat_population = solution.y[0]
owl_population = solution.y[1]

# Plot the population dynamics
plt.figure(figsize=(12, 6))
plt.plot(time, wood_rat_population, label="Wood Rat Population", lw=2)
plt.plot(time, owl_population, label="Owl Population", lw=2, linestyle='--')
plt.title("Population Dynamics of Owl and Wood Rat", fontsize=16)
plt.xlabel("Time", fontsize=14)
plt.ylabel("Population Size", fontsize=14)
plt.legend(fontsize=12)
plt.grid(True)
plt.show()

# Phase plot (population vs. population)
plt.figure(figsize=(8, 8))
plt.plot(wood_rat_population, owl_population, lw=2)
plt.title("Phase Plot: Owl vs. Wood Rat Population", fontsize=16)
plt.xlabel("Wood Rat Population", fontsize=14)
plt.ylabel("Owl Population", fontsize=14)
plt.grid(True)
plt.show()

# Equilibrium analysis
wood_rat_equilibrium = gamma / delta
owl_equilibrium = alpha / beta

print(f"Equilibrium Point (Wood Rat Population, Owl Population): ({wood_rat_equilibrium:.2f}, {owl_equilibrium:.2f})")

# Stability analysis around equilibrium
jacobian_matrix = np.array([[-beta * owl_equilibrium, -beta * wood_rat_equilibrium],
                            [delta * owl_equilibrium, delta * wood_rat_equilibrium - gamma]])
eigenvalues = np.linalg.eigvals(jacobian_matrix)
print(f"Eigenvalues of the Jacobian matrix at equilibrium: {eigenvalues}")
if np.all(eigenvalues.real < 0):
    print("The equilibrium is stable (both eigenvalues have negative real parts).")
elif np.any(eigenvalues.real > 0):
    print("The equilibrium is unstable (at least one eigenvalue has a positive real part).")
else:
    print("The equilibrium is neutrally stable (eigenvalues have zero real parts).")
